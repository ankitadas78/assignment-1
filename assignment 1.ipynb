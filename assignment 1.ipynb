{
 "cells": [
  {
   "cell_type": "markdown",
   "id": "8c4506b8-920f-40ee-a89d-039064dfa2de",
   "metadata": {},
   "source": [
    "question 1 (create one variable containing following type of data)"
   ]
  },
  {
   "cell_type": "code",
   "execution_count": 1,
   "id": "be3b746b-561f-4173-9e0b-b497d3afc4a8",
   "metadata": {},
   "outputs": [],
   "source": [
    "a = \"ankita\""
   ]
  },
  {
   "cell_type": "code",
   "execution_count": 2,
   "id": "faa16b38-bdaa-4c39-84ca-6854389a8bb6",
   "metadata": {},
   "outputs": [
    {
     "data": {
      "text/plain": [
       "str"
      ]
     },
     "execution_count": 2,
     "metadata": {},
     "output_type": "execute_result"
    }
   ],
   "source": [
    "type(a)"
   ]
  },
  {
   "cell_type": "code",
   "execution_count": 3,
   "id": "81e175c7-7289-473b-975a-fec0fed394f9",
   "metadata": {},
   "outputs": [],
   "source": [
    "l =[1,2,3,4,5,6,34.89,\"ankita\",5+7j,\"pwskills\",True,False,23.25]"
   ]
  },
  {
   "cell_type": "code",
   "execution_count": 4,
   "id": "41783ba9-a46d-4ce4-a2e4-326de5d4bf82",
   "metadata": {},
   "outputs": [
    {
     "data": {
      "text/plain": [
       "list"
      ]
     },
     "execution_count": 4,
     "metadata": {},
     "output_type": "execute_result"
    }
   ],
   "source": [
    "type(l)"
   ]
  },
  {
   "cell_type": "code",
   "execution_count": 5,
   "id": "a61a10c0-a970-4931-b1d9-25abcbc6f968",
   "metadata": {},
   "outputs": [],
   "source": [
    "b = 23.89"
   ]
  },
  {
   "cell_type": "code",
   "execution_count": 6,
   "id": "f42fbd4a-535c-4d13-bb71-7b4ef004bff4",
   "metadata": {},
   "outputs": [
    {
     "data": {
      "text/plain": [
       "float"
      ]
     },
     "execution_count": 6,
     "metadata": {},
     "output_type": "execute_result"
    }
   ],
   "source": [
    "type(b)"
   ]
  },
  {
   "cell_type": "code",
   "execution_count": 7,
   "id": "588dc915-de17-44aa-b18d-cbe6bf92702e",
   "metadata": {},
   "outputs": [],
   "source": [
    "t =(1,2,3,4,5,78,90,7+9j,\"ankita\",\"data science\",False,1.8,[2,4,7])"
   ]
  },
  {
   "cell_type": "code",
   "execution_count": 8,
   "id": "9f4649e4-d11b-4a01-90f5-b99fe491d912",
   "metadata": {},
   "outputs": [
    {
     "data": {
      "text/plain": [
       "tuple"
      ]
     },
     "execution_count": 8,
     "metadata": {},
     "output_type": "execute_result"
    }
   ],
   "source": [
    "type(t)"
   ]
  },
  {
   "cell_type": "markdown",
   "id": "1c1173fc-d5d4-4810-940b-7bb95e68dfee",
   "metadata": {},
   "source": [
    "question2"
   ]
  },
  {
   "cell_type": "code",
   "execution_count": 9,
   "id": "68cfe753-6ee8-4624-a66f-b71f93c1800d",
   "metadata": {},
   "outputs": [],
   "source": [
    "var1 = ''"
   ]
  },
  {
   "cell_type": "code",
   "execution_count": 10,
   "id": "e37ecde4-3eb3-4bdc-8722-c0e19db61ec9",
   "metadata": {},
   "outputs": [
    {
     "data": {
      "text/plain": [
       "str"
      ]
     },
     "execution_count": 10,
     "metadata": {},
     "output_type": "execute_result"
    }
   ],
   "source": [
    "type(var1)"
   ]
  },
  {
   "cell_type": "code",
   "execution_count": 11,
   "id": "5531ca73-c962-48b5-aedd-60ac86d291f8",
   "metadata": {},
   "outputs": [],
   "source": [
    "var2 = '[DS , ML , Python]'"
   ]
  },
  {
   "cell_type": "code",
   "execution_count": 12,
   "id": "f4f954f9-80b7-4102-8fe7-d5997d41212e",
   "metadata": {},
   "outputs": [
    {
     "data": {
      "text/plain": [
       "str"
      ]
     },
     "execution_count": 12,
     "metadata": {},
     "output_type": "execute_result"
    }
   ],
   "source": [
    "type(var2)"
   ]
  },
  {
   "cell_type": "code",
   "execution_count": 13,
   "id": "c6942b3a-e669-4a7e-a95d-b5d2dac2d90a",
   "metadata": {},
   "outputs": [],
   "source": [
    "var3 =['DS' , 'ML' , 'Python']"
   ]
  },
  {
   "cell_type": "code",
   "execution_count": 14,
   "id": "c2ea04b1-1893-4b80-a796-3c9b112feea8",
   "metadata": {},
   "outputs": [
    {
     "data": {
      "text/plain": [
       "list"
      ]
     },
     "execution_count": 14,
     "metadata": {},
     "output_type": "execute_result"
    }
   ],
   "source": [
    "type(var3)"
   ]
  },
  {
   "cell_type": "code",
   "execution_count": 15,
   "id": "fcab929d-434b-4aeb-805d-c3e15918dca0",
   "metadata": {},
   "outputs": [],
   "source": [
    "var4= 1"
   ]
  },
  {
   "cell_type": "code",
   "execution_count": 16,
   "id": "d9ddc59d-1836-4d40-9edb-87737dfd09d7",
   "metadata": {},
   "outputs": [
    {
     "data": {
      "text/plain": [
       "int"
      ]
     },
     "execution_count": 16,
     "metadata": {},
     "output_type": "execute_result"
    }
   ],
   "source": [
    "type(var4)"
   ]
  },
  {
   "cell_type": "markdown",
   "id": "1feb9960-c197-4a89-a0a2-5cb01ed6711c",
   "metadata": {},
   "source": [
    "question 3"
   ]
  },
  {
   "cell_type": "code",
   "execution_count": 17,
   "id": "fd600c7a-8374-47fb-8eef-9e91ef1cf34d",
   "metadata": {},
   "outputs": [
    {
     "data": {
      "text/plain": [
       "3.0"
      ]
     },
     "execution_count": 17,
     "metadata": {},
     "output_type": "execute_result"
    }
   ],
   "source": [
    "24/8"
   ]
  },
  {
   "cell_type": "code",
   "execution_count": 18,
   "id": "5d57dd5c-bfba-42b4-a8e6-6536b84f3595",
   "metadata": {},
   "outputs": [
    {
     "data": {
      "text/plain": [
       "4"
      ]
     },
     "execution_count": 18,
     "metadata": {},
     "output_type": "execute_result"
    }
   ],
   "source": [
    "28%6"
   ]
  },
  {
   "cell_type": "code",
   "execution_count": 19,
   "id": "c93b8977-1843-4095-9945-bd79ccac949e",
   "metadata": {},
   "outputs": [
    {
     "data": {
      "text/plain": [
       "5"
      ]
     },
     "execution_count": 19,
     "metadata": {},
     "output_type": "execute_result"
    }
   ],
   "source": [
    "40//7"
   ]
  },
  {
   "cell_type": "code",
   "execution_count": 20,
   "id": "927bb725-85cf-48da-8776-6b4bdb3cc374",
   "metadata": {},
   "outputs": [
    {
     "data": {
      "text/plain": [
       "15625"
      ]
     },
     "execution_count": 20,
     "metadata": {},
     "output_type": "execute_result"
    }
   ],
   "source": [
    "25**3"
   ]
  },
  {
   "cell_type": "markdown",
   "id": "8c5a289f-1e2b-4eea-9e1c-fac773d4a5a0",
   "metadata": {},
   "source": [
    "question 4"
   ]
  },
  {
   "cell_type": "code",
   "execution_count": 21,
   "id": "fa63b715-c880-4f4b-b6c6-d7963396caed",
   "metadata": {},
   "outputs": [],
   "source": [
    "l1 =[1,2,3,4,5,\"ankita\",\"das\",24.9,True,5+7j]"
   ]
  },
  {
   "cell_type": "code",
   "execution_count": 22,
   "id": "597b399f-f6f4-47f2-b347-b46b9e6f6141",
   "metadata": {},
   "outputs": [
    {
     "data": {
      "text/plain": [
       "10"
      ]
     },
     "execution_count": 22,
     "metadata": {},
     "output_type": "execute_result"
    }
   ],
   "source": [
    "len(l1)"
   ]
  },
  {
   "cell_type": "code",
   "execution_count": 23,
   "id": "e8ff3a13-68f7-4c29-b17c-cb0cad68a96c",
   "metadata": {},
   "outputs": [
    {
     "name": "stdout",
     "output_type": "stream",
     "text": [
      "<class 'int'>\n",
      "<class 'int'>\n",
      "<class 'int'>\n",
      "<class 'int'>\n",
      "<class 'int'>\n",
      "<class 'str'>\n",
      "<class 'str'>\n",
      "<class 'float'>\n",
      "<class 'bool'>\n",
      "<class 'complex'>\n"
     ]
    }
   ],
   "source": [
    "for i in l1:\n",
    "    print(type(i))"
   ]
  },
  {
   "cell_type": "markdown",
   "id": "1dd2d5bb-7d93-46e6-8116-8ac2679359b5",
   "metadata": {},
   "source": [
    "question 5"
   ]
  },
  {
   "cell_type": "code",
   "execution_count": 24,
   "id": "d3ca176a-a9b4-47de-9fa9-e11439515957",
   "metadata": {},
   "outputs": [
    {
     "name": "stdout",
     "output_type": "stream",
     "text": [
      "4\n"
     ]
    }
   ],
   "source": [
    "A = 4\n",
    "B = 1\n",
    "while A > B :\n",
    "    print(A)\n",
    "    A = A/1\n",
    "    if A ==4 :\n",
    "        break\n",
    "else :\n",
    "    print(\"this is my else\")"
   ]
  },
  {
   "cell_type": "markdown",
   "id": "0174a7e9-d62f-4c9b-b4b7-facc90a39e08",
   "metadata": {},
   "source": [
    "question 6"
   ]
  },
  {
   "cell_type": "code",
   "execution_count": 25,
   "id": "8a87c009-328a-4cd2-af80-e278b59004a0",
   "metadata": {},
   "outputs": [],
   "source": [
    "l2 = [1,2,3,4,5,6,7,8,9,10,11,12,13,14,15,16,17,18,19,20,21,22,23,24,25]"
   ]
  },
  {
   "cell_type": "code",
   "execution_count": 35,
   "id": "be4e98c6-8ef4-4d8f-abce-000eda987b8f",
   "metadata": {},
   "outputs": [
    {
     "ename": "IndentationError",
     "evalue": "expected an indented block after 'if' statement on line 3 (1309881881.py, line 4)",
     "output_type": "error",
     "traceback": [
      "\u001b[0;36m  Cell \u001b[0;32mIn[35], line 4\u001b[0;36m\u001b[0m\n\u001b[0;31m    else :\u001b[0m\n\u001b[0m          ^\u001b[0m\n\u001b[0;31mIndentationError\u001b[0m\u001b[0;31m:\u001b[0m expected an indented block after 'if' statement on line 3\n"
     ]
    }
   ],
   "source": [
    "for i in l2 :\n",
    "    print(type(i))\n",
    "    if(type(i)) // 3:\n",
    "else :\n",
    "    print(\"this is my else\")      "
   ]
  },
  {
   "cell_type": "markdown",
   "id": "17e3137f-f9f5-4a2b-bab2-102041db22ce",
   "metadata": {},
   "source": [
    "question 7"
   ]
  },
  {
   "cell_type": "markdown",
   "id": "a6c06dcc-6b29-4281-bcd1-56711fdf2fd3",
   "metadata": {},
   "source": [
    "mutable object : replacement of data change which is valid in list function\n",
    "immutable object : no replacement of data change , valid in string function"
   ]
  },
  {
   "cell_type": "code",
   "execution_count": 36,
   "id": "57cb6d48-9bb1-44d1-8eba-47dd1bd5a2cb",
   "metadata": {},
   "outputs": [],
   "source": [
    "l3 =[1,2,5,6]"
   ]
  },
  {
   "cell_type": "code",
   "execution_count": 37,
   "id": "4a36fa13-b93b-4848-9e17-35836dbdd118",
   "metadata": {},
   "outputs": [
    {
     "data": {
      "text/plain": [
       "list"
      ]
     },
     "execution_count": 37,
     "metadata": {},
     "output_type": "execute_result"
    }
   ],
   "source": [
    "type(l3)"
   ]
  },
  {
   "cell_type": "code",
   "execution_count": 38,
   "id": "69fa15ae-a575-4385-8dfc-9772c71e0a68",
   "metadata": {},
   "outputs": [],
   "source": [
    "l3[2] = 25"
   ]
  },
  {
   "cell_type": "code",
   "execution_count": 39,
   "id": "f3e7513d-a12f-41a9-8474-c64411d1990a",
   "metadata": {},
   "outputs": [
    {
     "data": {
      "text/plain": [
       "[1, 2, 25, 6]"
      ]
     },
     "execution_count": 39,
     "metadata": {},
     "output_type": "execute_result"
    }
   ],
   "source": [
    "l3"
   ]
  },
  {
   "cell_type": "code",
   "execution_count": 40,
   "id": "2fa85d4d-20ad-467b-ab81-8558221a72e2",
   "metadata": {},
   "outputs": [],
   "source": [
    "a = \"ankita\""
   ]
  },
  {
   "cell_type": "code",
   "execution_count": 41,
   "id": "baae13b9-43b2-4217-a144-8442a28043db",
   "metadata": {},
   "outputs": [
    {
     "data": {
      "text/plain": [
       "str"
      ]
     },
     "execution_count": 41,
     "metadata": {},
     "output_type": "execute_result"
    }
   ],
   "source": [
    "type(a)"
   ]
  },
  {
   "cell_type": "code",
   "execution_count": 42,
   "id": "4ae35264-9399-4ea2-b37c-b6e77d143bef",
   "metadata": {},
   "outputs": [
    {
     "ename": "TypeError",
     "evalue": "'str' object does not support item assignment",
     "output_type": "error",
     "traceback": [
      "\u001b[0;31m---------------------------------------------------------------------------\u001b[0m",
      "\u001b[0;31mTypeError\u001b[0m                                 Traceback (most recent call last)",
      "Cell \u001b[0;32mIn[42], line 1\u001b[0m\n\u001b[0;32m----> 1\u001b[0m \u001b[43ma\u001b[49m\u001b[43m[\u001b[49m\u001b[38;5;241;43m2\u001b[39;49m\u001b[43m]\u001b[49m \u001b[38;5;241m=\u001b[39m \u001b[38;5;124m\"\u001b[39m\u001b[38;5;124ms\u001b[39m\u001b[38;5;124m\"\u001b[39m\n",
      "\u001b[0;31mTypeError\u001b[0m: 'str' object does not support item assignment"
     ]
    }
   ],
   "source": [
    "a[2] = \"s\""
   ]
  },
  {
   "cell_type": "code",
   "execution_count": null,
   "id": "506be3f7-580d-4cd5-a76c-deb0cfbb775d",
   "metadata": {},
   "outputs": [],
   "source": []
  }
 ],
 "metadata": {
  "kernelspec": {
   "display_name": "Python 3 (ipykernel)",
   "language": "python",
   "name": "python3"
  },
  "language_info": {
   "codemirror_mode": {
    "name": "ipython",
    "version": 3
   },
   "file_extension": ".py",
   "mimetype": "text/x-python",
   "name": "python",
   "nbconvert_exporter": "python",
   "pygments_lexer": "ipython3",
   "version": "3.10.8"
  }
 },
 "nbformat": 4,
 "nbformat_minor": 5
}
